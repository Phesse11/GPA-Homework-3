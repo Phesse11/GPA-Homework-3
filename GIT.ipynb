{
 "cells": [
  {
   "cell_type": "code",
   "execution_count": 59,
   "id": "9674f9ec",
   "metadata": {},
   "outputs": [
    {
     "name": "stdout",
     "output_type": "stream",
     "text": [
      "Enter your last name: Avila\n",
      "Enter your first name: Chris\n",
      "What is your GPA1.7\n",
      "Not qualified for either Deans list or Honors List\n",
      "Enter your last name: Hesse\n",
      "Enter your first name: Paa-nii\n",
      "What is your GPA3.3\n",
      "Congrats you made it on the Honors list\n",
      "Enter your last name: Hesse\n",
      "Enter your first name: Johanne\n",
      "What is your GPA3.6\n",
      "Congrats you made it on Deans list\n",
      "Enter your last name: Alexa\n",
      "Enter your first name: Mela\n",
      "What is your GPA2.4\n",
      "Not qualified for either Deans list or Honors List\n",
      "Enter your last name: Hesse\n",
      "Enter your first name: Jiselle \n",
      "What is your GPA3.1\n",
      "Not qualified for either Deans list or Honors List\n",
      "Enter your last name: ZZZ\n"
     ]
    }
   ],
   "source": [
    "exitlastname = \"ZZZ\" # Quits the Programs \n",
    "while True:\n",
    "    lname = input(\"Enter your last name: \") # Program is Asking for you're last name \n",
    "    if lname == \"ZZZ\": # if you type ZZZ as last name then the program will stop \n",
    "        break # Stops the program\n",
    "    else: \n",
    "    \n",
    "        fname = input(\"Enter your first name: \") # Program is asking for you're first name \n",
    "        GPA = float(input(\"What is your GPA\"))  # Program asking for you're GPA as a float \n",
    "        if GPA >= 3.5: # If Statement is if GPA  is greater than 3.5 then you made the Deans list \n",
    "            print(\"Congrats you made it on Deans list\")\n",
    "        elif GPA >= 3.25: # elif Statement is if GPA  is greater than 3.25 then you made the Honors list\n",
    "            print(\"Congrats you made it on the Honors list\")\n",
    "        else: # else Statement is for people who qualified for neither  Dean's list or Honors list \n",
    "             print(\"Not qualified for either Deans list or Honors List \")\n",
    "    \n",
    "            \n",
    "\n"
   ]
  },
  {
   "cell_type": "code",
   "execution_count": null,
   "id": "3d40dda6",
   "metadata": {},
   "outputs": [],
   "source": []
  },
  {
   "cell_type": "code",
   "execution_count": null,
   "id": "fb384060",
   "metadata": {},
   "outputs": [],
   "source": []
  },
  {
   "cell_type": "code",
   "execution_count": null,
   "id": "b92c1be9",
   "metadata": {},
   "outputs": [],
   "source": []
  }
 ],
 "metadata": {
  "kernelspec": {
   "display_name": "Python 3 (ipykernel)",
   "language": "python",
   "name": "python3"
  },
  "language_info": {
   "codemirror_mode": {
    "name": "ipython",
    "version": 3
   },
   "file_extension": ".py",
   "mimetype": "text/x-python",
   "name": "python",
   "nbconvert_exporter": "python",
   "pygments_lexer": "ipython3",
   "version": "3.9.13"
  }
 },
 "nbformat": 4,
 "nbformat_minor": 5
}
